{
 "cells": [
  {
   "cell_type": "markdown",
   "metadata": {},
   "source": [
    "Authors: Antoine A. Ruzette, Simon F. Nørrelykke\n",
    "Date: 2024-07-21\n",
    "\n",
    "This notebook plots the correlation coefficients between cell pixel intensity and the signed distance to stroma for two partitions: inside a stromal region (distance < 0) and outside a stromal region (distance < 0) as defined by the modelled stromal border. It supports plotting results from parameter screens in QuPath. \n",
    "\n",
    "Contains the code to plot data from pNDRG1 images only. "
   ]
  },
  {
   "cell_type": "code",
   "execution_count": null,
   "metadata": {},
   "outputs": [],
   "source": [
    "! pip install \"fitter>=1.6.0\" \"ipykernel>=6.29.5\" \"matplotlib>=3.10.0\" \"natsort>=8.4.0\" \"numpy>=2.2.3\" \"pandas>=2.2.3\" \"scipy>=1.15.2\" \"seaborn>=0.13.2\" \"setuptools>=75.8.0\""
   ]
  },
  {
   "cell_type": "code",
   "execution_count": 10,
   "metadata": {},
   "outputs": [],
   "source": [
    "import os\n",
    "import pandas as pd\n",
    "import csv\n",
    "import numpy as np\n",
    "import matplotlib.pyplot as plt\n",
    "import seaborn as sns\n",
    "import re\n",
    "from matplotlib.pyplot import ScalarFormatter\n",
    "\n",
    "# colorblind-friendly colors\n",
    "CB_palette = ['#377eb8', '#ff7f00', '#4daf4a',\n",
    "                '#f781bf', '#a65628', '#984ea3',\n",
    "                '#999999', '#e41a1c', '#dede00']"
   ]
  },
  {
   "cell_type": "code",
   "execution_count": null,
   "metadata": {},
   "outputs": [],
   "source": [
    "def bootstrap_sem(data, n_bootstrap=500):\n",
    "    \"\"\"Calculate the standard error of the median using bootstrapping.\"\"\"\n",
    "    medians = [data.sample(frac=1, replace=True).median() for _ in range(n_bootstrap)]\n",
    "    return np.std(medians)\n",
    "\n",
    "# Path to the folder containing CSV files\n",
    "folder_path = \"path/to/your/folder\"\n",
    "\n",
    "# Get the list of CSV files\n",
    "csv_files = [file for file in os.listdir(folder_path) if file.endswith('.csv')]\n",
    "\n",
    "# Create color mapping for each CSV file\n",
    "color_palette = sns.color_palette(\"husl\", len(csv_files))\n",
    "image_colors = {file: color for file, color in zip(csv_files, color_palette)}\n",
    "\n",
    "# Initialize an empty list to store DataFrames\n",
    "dfs = []\n",
    "\n",
    "# Iterate over files in the folder\n",
    "for file in os.listdir(folder_path):\n",
    "    if file.endswith('.csv'):\n",
    "        # Read CSV file and append to the list\n",
    "        df = pd.read_csv(os.path.join(folder_path, file))\n",
    "        dfs.append(df)\n",
    "\n",
    "# Concatenate all DataFrames into a single DataFrame\n",
    "df_stroma = pd.concat(dfs, ignore_index=True)\n",
    "\n",
    "# Remove leading/trailing whitespace from column names\n",
    "df_stroma.columns = df_stroma.columns.str.strip()\n",
    "\n",
    "# Print the column names to check\n",
    "print(\"Column names in the DataFrame after stripping whitespace:\")\n",
    "print(df_stroma.columns)\n",
    "\n",
    "# Check if the required columns are present\n",
    "required_columns = ['pearsonInsideStromaKerPNDRG1', 'pearsonOutsideStromaKerPNDRG1']\n",
    "for col in required_columns:\n",
    "    if col not in df_stroma.columns:\n",
    "        raise KeyError(f\"Column {col} is not present in the DataFrame.\")\n",
    "\n",
    "# Group the data by 'sigma' and calculate the median\n",
    "grouped_sigma = df_stroma.groupby('sigma')\n",
    "avg_corr_sigma = grouped_sigma[['pearsonInsideStromaKerPNDRG1', 'pearsonOutsideStromaKerPNDRG1']].median()\n",
    "\n",
    "# Calculate the SEM for each group using bootstrapping\n",
    "sem_corr_sigma = grouped_sigma.apply(lambda x: pd.Series({\n",
    "    'pearsonInsideStromaKerPNDRG1': bootstrap_sem(x['pearsonInsideStromaKerPNDRG1']),\n",
    "    'pearsonOutsideStromaKerPNDRG1': bootstrap_sem(x['pearsonOutsideStromaKerPNDRG1'])\n",
    "}))\n",
    "\n",
    "# Group the data by 'FN_568' and calculate the median\n",
    "grouped_FN_568 = df_stroma.groupby('TRITC FN')\n",
    "avg_corr_FN_568 = grouped_FN_568[['pearsonInsideStromaKerPNDRG1', 'pearsonOutsideStromaKerPNDRG1']].median()\n",
    "\n",
    "# Calculate the SEM for each group using bootstrapping\n",
    "sem_corr_FN_568 = grouped_FN_568.apply(lambda x: pd.Series({\n",
    "    'pearsonInsideStromaKerPNDRG1': bootstrap_sem(x['pearsonInsideStromaKerPNDRG1']),\n",
    "    'pearsonOutsideStromaKerPNDRG1': bootstrap_sem(x['pearsonOutsideStromaKerPNDRG1'])\n",
    "}))\n",
    "\n",
    "# Print median value range for sigma plot\n",
    "inside_range_sigma = avg_corr_sigma[\"pearsonInsideStromaKerPNDRG1\"].min(), avg_corr_sigma[\"pearsonInsideStromaKerPNDRG1\"].max()\n",
    "outside_range_sigma = avg_corr_sigma[\"pearsonOutsideStromaKerPNDRG1\"].min(), avg_corr_sigma[\"pearsonOutsideStromaKerPNDRG1\"].max()\n",
    "\n",
    "print(f\"[Sigma] Inside stroma median correlation spans from {inside_range_sigma[0]:.2f} to {inside_range_sigma[1]:.2f}\")\n",
    "print(f\"[Sigma] Outside stroma median correlation spans from {outside_range_sigma[0]:.2f} to {outside_range_sigma[1]:.2f}\")\n",
    "\n",
    "# Create the first plot for 'sigma'\n",
    "fig1, ax1 = plt.subplots(figsize=(10, 9))\n",
    "\n",
    "# Plot data on the first plot with error bars\n",
    "ax1.errorbar(avg_corr_sigma[\"pearsonInsideStromaKerPNDRG1\"], avg_corr_sigma.index, xerr=sem_corr_sigma[\"pearsonInsideStromaKerPNDRG1\"], fmt='^', color=color_palette[0], label='Inside stroma', markersize=10, capsize=5)\n",
    "ax1.errorbar(avg_corr_sigma[\"pearsonOutsideStromaKerPNDRG1\"], avg_corr_sigma.index, xerr=sem_corr_sigma[\"pearsonOutsideStromaKerPNDRG1\"], fmt='o', color=color_palette[3], label='Outside stroma', markersize=10, capsize=5)\n",
    "ax1.axvline(x=0, color='black', ls='--')\n",
    "ax1.legend(prop={'size': 20}, loc='lower left')\n",
    "ax1.set_xlim(-0.10, 0.15)\n",
    "\n",
    "# Set the y-axis formatter to display scientific notation with a fixed number of decimals\n",
    "formatter = ScalarFormatter(useMathText=True)\n",
    "formatter.set_powerlimits((-2, 2))\n",
    "ax1.yaxis.set_major_formatter(formatter)\n",
    "ax1.tick_params(axis='both', which='major', labelsize=30)\n",
    "ax1.tick_params(axis='both', which='minor', labelsize=30)\n",
    "ax1.yaxis.get_offset_text().set_size(30)\n",
    "ax1.yaxis.get_offset_text().set_fontsize(30)\n",
    "ax1.yaxis.get_offset_text().set_color('black')\n",
    "\n",
    "ax1.set_ylabel(r'Smoothing sigma $\\sigma$, a.u.', fontsize=30)\n",
    "ax1.set_xlabel('Correlation', fontsize=30)\n",
    "\n",
    "plt.tight_layout()\n",
    "plt.savefig(f'{folder_path}/sensitivity_stroma_annotation_sigma.png', dpi=300)\n",
    "plt.show()\n",
    "\n",
    "# Create the second plot for 'FN_568'\n",
    "fig2, ax2 = plt.subplots(figsize=(10, 9))\n",
    "\n",
    "# Plot data on the second plot with error bars\n",
    "ax2.errorbar(avg_corr_FN_568[\"pearsonInsideStromaKerPNDRG1\"], avg_corr_FN_568.index, xerr=sem_corr_FN_568[\"pearsonInsideStromaKerPNDRG1\"], fmt='^', color=color_palette[0], label='Inside stroma', markersize=10, capsize=5)\n",
    "ax2.errorbar(avg_corr_FN_568[\"pearsonOutsideStromaKerPNDRG1\"], avg_corr_FN_568.index, xerr=sem_corr_FN_568[\"pearsonOutsideStromaKerPNDRG1\"], fmt='o', color=color_palette[3], label='Outside stroma', markersize=10, capsize=5)\n",
    "ax2.axvline(x=0, color='black', ls='--')\n",
    "ax2.legend(prop={'size': 20}, loc='lower right')\n",
    "ax2.set_xlim(-0.05, 0.2)\n",
    "\n",
    "# Set the y-axis formatter to display scientific notation with a fixed number of decimals\n",
    "ax2.yaxis.set_major_formatter(formatter)\n",
    "ax2.tick_params(axis='both', which='major', labelsize=30)\n",
    "ax2.tick_params(axis='both', which='minor', labelsize=30)\n",
    "ax2.yaxis.get_offset_text().set_size(30)\n",
    "ax2.yaxis.get_offset_text().set_fontsize(30)\n",
    "ax2.yaxis.get_offset_text().set_color('black')\n",
    "\n",
    "ax2.set_ylabel('Fibronectin intensity threshold, a.u.', fontsize=30)\n",
    "ax2.set_xlabel('Correlation', fontsize=30)\n",
    "\n",
    "plt.tight_layout()\n",
    "plt.savefig(f'{folder_path}/sensitivity_stroma_annotation_FN_568.png', dpi=300)\n",
    "plt.show()"
   ]
  },
  {
   "cell_type": "markdown",
   "metadata": {},
   "source": [
    "## Wilcoxon and paired t-test to compare the two distributions"
   ]
  },
  {
   "cell_type": "code",
   "execution_count": 9,
   "metadata": {},
   "outputs": [
    {
     "name": "stdout",
     "output_type": "stream",
     "text": [
      "[Sigma] Wilcoxon p-value: 9.766e-04\n",
      "[FN_568] Wilcoxon p-value: 1.953e-03\n"
     ]
    }
   ],
   "source": [
    "from scipy.stats import wilcoxon\n",
    "\n",
    "# For the sigma plot\n",
    "inside_sigma = avg_corr_sigma[\"pearsonInsideStromaKerPNDRG1\"]\n",
    "outside_sigma = avg_corr_sigma[\"pearsonOutsideStromaKerPNDRG1\"]\n",
    "\n",
    "stat_sigma, pvalue_sigma = wilcoxon(inside_sigma, outside_sigma, alternative='two-sided')\n",
    "print(f\"[Sigma] Wilcoxon p-value: {pvalue_sigma:.3e}\")\n",
    "\n",
    "# For the FN_568 plot\n",
    "inside_FN_568 = avg_corr_FN_568[\"pearsonInsideStromaKerPNDRG1\"]\n",
    "outside_FN_568 = avg_corr_FN_568[\"pearsonOutsideStromaKerPNDRG1\"]\n",
    "\n",
    "stat_FN568, pvalue_FN_568 = wilcoxon(inside_FN_568, outside_FN_568, alternative='two-sided')\n",
    "print(f\"[FN_568] Wilcoxon p-value: {pvalue_FN_568:.3e}\")\n"
   ]
  },
  {
   "cell_type": "code",
   "execution_count": 20,
   "metadata": {},
   "outputs": [
    {
     "name": "stdout",
     "output_type": "stream",
     "text": [
      "[Sigma] Paired t-test p-value: 9.6627e-08\n",
      "[FN_568] Paired t-test p-value: 2.5919e-03\n"
     ]
    }
   ],
   "source": [
    "from scipy.stats import ttest_rel\n",
    "\n",
    "# Paired t-test for sigma plot\n",
    "t_stat_sigma, pval_ttest_sigma = ttest_rel(inside_sigma, outside_sigma)\n",
    "print(f\"[Sigma] Paired t-test p-value: {pval_ttest_sigma:.4e}\")\n",
    "\n",
    "# Paired t-test for FN_568 plot\n",
    "t_stat_FN, pval_ttest_FN = ttest_rel(inside_FN_568, outside_FN_568)\n",
    "print(f\"[FN_568] Paired t-test p-value: {pval_ttest_FN:.4e}\")\n"
   ]
  }
 ],
 "metadata": {
  "kernelspec": {
   "display_name": ".venv",
   "language": "python",
   "name": "python3"
  },
  "language_info": {
   "codemirror_mode": {
    "name": "ipython",
    "version": 3
   },
   "file_extension": ".py",
   "mimetype": "text/x-python",
   "name": "python",
   "nbconvert_exporter": "python",
   "pygments_lexer": "ipython3",
   "version": "3.13.2"
  },
  "orig_nbformat": 4
 },
 "nbformat": 4,
 "nbformat_minor": 2
}
